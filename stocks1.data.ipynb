{
 "cells": [
  {
   "cell_type": "markdown",
   "metadata": {},
   "source": [
    "# Step 1. Stock Market Data\n",
    "\n",
    "By Sung Choi\n",
    "\n",
    "May 19, 2020"
   ]
  },
  {
   "cell_type": "markdown",
   "metadata": {},
   "source": [
    "# Library"
   ]
  },
  {
   "cell_type": "code",
   "execution_count": 1,
   "metadata": {},
   "outputs": [],
   "source": [
    "import os\n",
    "import time\n",
    "from datetime import datetime\n",
    "\n",
    "# import pandas_datareader as pdr\n",
    "import yfinance as yf\n",
    "\n",
    "import pandas as pd\n",
    "import numpy as np"
   ]
  },
  {
   "cell_type": "markdown",
   "metadata": {},
   "source": [
    "# Get Stock Quotes"
   ]
  },
  {
   "cell_type": "markdown",
   "metadata": {},
   "source": [
    "### Collection of stocks in a list"
   ]
  },
  {
   "cell_type": "markdown",
   "metadata": {},
   "source": [
    "S&P healthcare index from https://www.ssga.com/us/en/individual/etfs/fund-finder?g=assetclass%3Aequity!equity-sector*sector\n",
    "\n",
    "- XLV - The Health Care Select Sector SPDR Fund: Unlike more focused health care ETFs, this one includes companies from across the industry, including biotech, pharmaceutical, and service companies.\n",
    " "
   ]
  },
  {
   "cell_type": "code",
   "execution_count": 2,
   "metadata": {},
   "outputs": [],
   "source": [
    "spdrs = pd.Series(['XLV'])"
   ]
  },
  {
   "cell_type": "markdown",
   "metadata": {},
   "source": [
    "### Get prices from yahoo finance, format data in long-form for event study"
   ]
  },
  {
   "cell_type": "markdown",
   "metadata": {},
   "source": [
    "Market index is S&P500 '^GSPC'\n"
   ]
  },
  {
   "cell_type": "code",
   "execution_count": null,
   "metadata": {
    "scrolled": true
   },
   "outputs": [],
   "source": [
    "# parameters\n",
    "date_start = \"2019-01-01\"\n",
    "date_end = \"2020-05-14\"\n",
    "market = '^GSPC'\n",
    "tickers_list = spdrs\n",
    "ind_name = 'health_care_sector'\n",
    "\n",
    "# get selected stock prices and store in diciontary\n",
    "stocks = {}\n",
    "\n",
    "for tick in tickers_list[:]:\n",
    "    print(tick)\n",
    "    print(f\"{tick} {market}\")\n",
    "    df = yf.download(f\"{tick} {market}\", start=date_start, end=date_end,\n",
    "                   group_by=\"ticker\")\n",
    "    \n",
    "    # keep adj closing price from 1.ticker, 2.market\n",
    "    df_keep = pd.DataFrame()\n",
    "    df_keep['Adj Close'] = df[tick]['Adj Close']\n",
    "    df_keep['MARKET Adj Close'] = df[market]['Adj Close']\n",
    "      \n",
    "    stocks[tick] = df_keep\n",
    "\n",
    "# concat items in dictionary to one df\n",
    "stocks_cat = pd.concat(stocks, axis = 0)\n",
    "\n",
    "# remove df_index to enable creating column from another df later\n",
    "stocks_cat = stocks_cat.reset_index()\n",
    "\n",
    "# rename\n",
    "stocks_cat = stocks_cat.rename(columns = {'level_0': 'ticker'})\n",
    "\n",
    "# write to stata\n",
    "filename = f\"save/stocks_{ind_name}.dta\"\n",
    "stocks_cat.to_stata(filename, write_index=False)"
   ]
  },
  {
   "cell_type": "code",
   "execution_count": 4,
   "metadata": {},
   "outputs": [
    {
     "data": {
      "text/html": [
       "<div>\n",
       "<style scoped>\n",
       "    .dataframe tbody tr th:only-of-type {\n",
       "        vertical-align: middle;\n",
       "    }\n",
       "\n",
       "    .dataframe tbody tr th {\n",
       "        vertical-align: top;\n",
       "    }\n",
       "\n",
       "    .dataframe thead th {\n",
       "        text-align: right;\n",
       "    }\n",
       "</style>\n",
       "<table border=\"1\" class=\"dataframe\">\n",
       "  <thead>\n",
       "    <tr style=\"text-align: right;\">\n",
       "      <th></th>\n",
       "      <th>ticker</th>\n",
       "      <th>Date</th>\n",
       "      <th>Adj Close</th>\n",
       "      <th>MARKET Adj Close</th>\n",
       "    </tr>\n",
       "  </thead>\n",
       "  <tbody>\n",
       "    <tr>\n",
       "      <th>0</th>\n",
       "      <td>XLV</td>\n",
       "      <td>2019-01-02</td>\n",
       "      <td>82.882172</td>\n",
       "      <td>2510.030029</td>\n",
       "    </tr>\n",
       "    <tr>\n",
       "      <th>1</th>\n",
       "      <td>XLV</td>\n",
       "      <td>2019-01-03</td>\n",
       "      <td>81.199242</td>\n",
       "      <td>2447.889893</td>\n",
       "    </tr>\n",
       "    <tr>\n",
       "      <th>2</th>\n",
       "      <td>XLV</td>\n",
       "      <td>2019-01-04</td>\n",
       "      <td>83.621490</td>\n",
       "      <td>2531.939941</td>\n",
       "    </tr>\n",
       "    <tr>\n",
       "      <th>3</th>\n",
       "      <td>XLV</td>\n",
       "      <td>2019-01-07</td>\n",
       "      <td>83.942513</td>\n",
       "      <td>2549.689941</td>\n",
       "    </tr>\n",
       "    <tr>\n",
       "      <th>4</th>\n",
       "      <td>XLV</td>\n",
       "      <td>2019-01-08</td>\n",
       "      <td>84.594292</td>\n",
       "      <td>2574.409912</td>\n",
       "    </tr>\n",
       "    <tr>\n",
       "      <th>...</th>\n",
       "      <td>...</td>\n",
       "      <td>...</td>\n",
       "      <td>...</td>\n",
       "      <td>...</td>\n",
       "    </tr>\n",
       "    <tr>\n",
       "      <th>339</th>\n",
       "      <td>XLV</td>\n",
       "      <td>2020-05-07</td>\n",
       "      <td>98.900002</td>\n",
       "      <td>2881.189941</td>\n",
       "    </tr>\n",
       "    <tr>\n",
       "      <th>340</th>\n",
       "      <td>XLV</td>\n",
       "      <td>2020-05-08</td>\n",
       "      <td>99.410004</td>\n",
       "      <td>2929.800049</td>\n",
       "    </tr>\n",
       "    <tr>\n",
       "      <th>341</th>\n",
       "      <td>XLV</td>\n",
       "      <td>2020-05-11</td>\n",
       "      <td>101.120003</td>\n",
       "      <td>2930.189941</td>\n",
       "    </tr>\n",
       "    <tr>\n",
       "      <th>342</th>\n",
       "      <td>XLV</td>\n",
       "      <td>2020-05-12</td>\n",
       "      <td>99.580002</td>\n",
       "      <td>2870.120117</td>\n",
       "    </tr>\n",
       "    <tr>\n",
       "      <th>343</th>\n",
       "      <td>XLV</td>\n",
       "      <td>2020-05-13</td>\n",
       "      <td>98.500000</td>\n",
       "      <td>2820.000000</td>\n",
       "    </tr>\n",
       "  </tbody>\n",
       "</table>\n",
       "<p>344 rows × 4 columns</p>\n",
       "</div>"
      ],
      "text/plain": [
       "    ticker       Date   Adj Close  MARKET Adj Close\n",
       "0      XLV 2019-01-02   82.882172       2510.030029\n",
       "1      XLV 2019-01-03   81.199242       2447.889893\n",
       "2      XLV 2019-01-04   83.621490       2531.939941\n",
       "3      XLV 2019-01-07   83.942513       2549.689941\n",
       "4      XLV 2019-01-08   84.594292       2574.409912\n",
       "..     ...        ...         ...               ...\n",
       "339    XLV 2020-05-07   98.900002       2881.189941\n",
       "340    XLV 2020-05-08   99.410004       2929.800049\n",
       "341    XLV 2020-05-11  101.120003       2930.189941\n",
       "342    XLV 2020-05-12   99.580002       2870.120117\n",
       "343    XLV 2020-05-13   98.500000       2820.000000\n",
       "\n",
       "[344 rows x 4 columns]"
      ]
     },
     "execution_count": 4,
     "metadata": {},
     "output_type": "execute_result"
    }
   ],
   "source": [
    "stocks_cat"
   ]
  }
 ],
 "metadata": {
  "kernelspec": {
   "display_name": "Python 3",
   "language": "python",
   "name": "python3"
  },
  "language_info": {
   "codemirror_mode": {
    "name": "ipython",
    "version": 3
   },
   "file_extension": ".py",
   "mimetype": "text/x-python",
   "name": "python",
   "nbconvert_exporter": "python",
   "pygments_lexer": "ipython3",
   "version": "3.7.7"
  }
 },
 "nbformat": 4,
 "nbformat_minor": 4
}
